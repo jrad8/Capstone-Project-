{
    "cells": [
        {
            "cell_type": "markdown",
            "metadata": {},
            "source": "<a href=\"https://cognitiveclass.ai/?utm_medium=Exinfluencer&utm_source=Exinfluencer&utm_content=000026UJ&utm_term=10006555&utm_id=NA-SkillsNetwork-Channel-SkillsNetworkCoursesIBMDeveloperSkillsNetworkRP0321ENSkillsNetwork25371262-2021-01-01\">\n    <img src=\"https://cf-courses-data.s3.us.cloud-object-storage.appdomain.cloud/IBMDeveloperSkillsNetwork-RP0101EN-Coursera/v2/M1_R_Basics/images/IDSNlogo.png\" width=\"200\" align=\"center\">\n</a>\n"
        },
        {
            "cell_type": "markdown",
            "metadata": {},
            "source": "<h1>OpenWeather APIs Calls</h1>\n\nEstimated time needed: **40** minutes\n"
        },
        {
            "cell_type": "markdown",
            "metadata": {},
            "source": "## Lab Overview:\n\nIn this lab, you will be collecting real-time current and forecasted weather data for cities using the **OpenWeather API**. It can give you current weather data for any location including over 200,000 cities and 5 day forecasts for free (with limited API usage). You just need to use HTTP requests to call those weather APIs and get the weather data.\n\nYou will be given instructions to set up a free OpenWeather API account with an API key for authentication. Then, you will be shown, with code examples, how to get the current weather for a given city. After you are familiar with OpenWeather API, you will be asked to get 5-day forecast data for a list of cities.\n"
        },
        {
            "cell_type": "markdown",
            "metadata": {},
            "source": "## Setup OpenWeather API account\n"
        },
        {
            "cell_type": "markdown",
            "metadata": {},
            "source": "You can create an OpenWeather API account [here](https://home.openweathermap.org/users/sign_up?utm_medium=Exinfluencer\\&utm_source=Exinfluencer\\&utm_content=000026UJ\\&utm_term=10006555\\&utm_id=NA-SkillsNetwork-Channel-SkillsNetworkCoursesIBMDeveloperSkillsNetworkRP0321ENSkillsNetwork25371262-2021-01-01). After your account has been created and verified, you can go to Account -> My API Keys:\n"
        },
        {
            "cell_type": "markdown",
            "metadata": {},
            "source": "<a href=\"https://cognitiveclass.ai/?utm_medium=Exinfluencer&utm_source=Exinfluencer&utm_content=000026UJ&utm_term=10006555&utm_id=NA-SkillsNetwork-Channel-SkillsNetworkCoursesIBMDeveloperSkillsNetworkRP0321ENSkillsNetwork25371262-2021-01-01\">\n    <img src=\"https://cf-courses-data.s3.us.cloud-object-storage.appdomain.cloud/IBMDeveloperSkillsNetwork-RP0321EN-SkillsNetwork/labs/module_1/images/l2-openweather-apikey.png\" width=\"400\" align=\"center\">\n</a>\n"
        },
        {
            "cell_type": "markdown",
            "metadata": {},
            "source": "and find your API key here:\n"
        },
        {
            "cell_type": "markdown",
            "metadata": {},
            "source": "<a href=\"https://cognitiveclass.ai/?utm_medium=Exinfluencer&utm_source=Exinfluencer&utm_content=000026UJ&utm_term=10006555&utm_id=NA-SkillsNetwork-Channel-SkillsNetworkCoursesIBMDeveloperSkillsNetworkRP0321ENSkillsNetwork25371262-2021-01-01\">\n    <img src=\"https://cf-courses-data.s3.us.cloud-object-storage.appdomain.cloud/IBMDeveloperSkillsNetwork-RP0321EN-SkillsNetwork/labs/module_1/images/l2-openweather-apikey-value.png\" width=\"400\" align=\"center\">\n</a>\n"
        },
        {
            "cell_type": "markdown",
            "metadata": {},
            "source": "Now mark down your generated API key, which will be used to authenticate your HTTP requests to OpenWeather API.\n\nNote that a new API key may take some time to be activated. You may quickly try the following URL using a web browser.\n\nWith the `{your_api_key}` URL parameter replaced by your own API key and go to the following URL:\n\nhttps://api.openweathermap.org/data/2.5/weather?q=Seoul\\&appid={your_api_key}\n"
        },
        {
            "cell_type": "markdown",
            "metadata": {},
            "source": "until you see some weather data returned (instead of 401 or other error status), similar to the following JSON result:\n\n```\n{\"coord\":{\"lon\":126.9778,\"lat\":37.5683},\n\"weather\":[{\"id\":800,\"main\":\"Clear\",\"description\":\"clear sky\",\"icon\":\"01n\"}],\n\"base\":\"stations\",\n\"main\":{\"temp\":285.16,\"feels_like\":284.04,\"temp_min\":284.15,\"temp_max\":287.15,\"pressure\":1020,\"humidity\":62},\n\"visibility\":10000,\n\"wind\":{\"speed\":1.03,\"deg\":220},\"clouds\":{\"all\":0},\"dt\":1617718307,\"sys\":{\"type\":1,\"id\":8105,\"country\":\"KR\",\"sunrise\":1617657021,\"sunset\":1617703103},\"timezone\":32400,\"id\":1835848,\"name\":\"Seoul\",\"cod\":200}\n```\n"
        },
        {
            "cell_type": "markdown",
            "metadata": {},
            "source": "## Coding Practice: Get the current weather data for a city using OpenWeather API\n"
        },
        {
            "cell_type": "markdown",
            "metadata": {},
            "source": "First import `httr` library\n"
        },
        {
            "cell_type": "code",
            "execution_count": 1,
            "metadata": {},
            "outputs": [
                {
                    "name": "stderr",
                    "output_type": "stream",
                    "text": "Loading required package: httr\n"
                }
            ],
            "source": "# Check if need to install rvest` library\nrequire(\"httr\")\n\nlibrary(httr)"
        },
        {
            "cell_type": "markdown",
            "metadata": {},
            "source": "The API base URL to get current weather is https://api.openweathermap.org/data/2.5/weather\n"
        },
        {
            "cell_type": "code",
            "execution_count": 2,
            "metadata": {},
            "outputs": [],
            "source": "# URL for Current Weather API\ncurrent_weather_url <- 'https://api.openweathermap.org/data/2.5/weather'"
        },
        {
            "cell_type": "markdown",
            "metadata": {},
            "source": "Next, let's create a list to hold URL parameters for current weather API\n"
        },
        {
            "cell_type": "code",
            "execution_count": 4,
            "metadata": {},
            "outputs": [],
            "source": "# need to be replaced by your real API key\napi_key <- \"ae11a2d2c634e6513f1082416998e43a\"\n# Input `q` is the city name\n# Input `appid` is your API KEY, \n# Input `units` are preferred units such as Metric or Imperial\ncurrent_query <- list(q = \"Seoul\", appid = api_key, units=\"metric\")"
        },
        {
            "cell_type": "markdown",
            "metadata": {},
            "source": "Now we can make a HTTP request to the current weather API\n"
        },
        {
            "cell_type": "code",
            "execution_count": 5,
            "metadata": {},
            "outputs": [],
            "source": "response <- GET(current_weather_url, query=current_query)"
        },
        {
            "cell_type": "markdown",
            "metadata": {},
            "source": "If we check the response type, we can see it is in JSON format\n"
        },
        {
            "cell_type": "code",
            "execution_count": 6,
            "metadata": {},
            "outputs": [
                {
                    "data": {
                        "text/html": "'application/json'",
                        "text/latex": "'application/json'",
                        "text/markdown": "'application/json'",
                        "text/plain": "[1] \"application/json\""
                    },
                    "metadata": {},
                    "output_type": "display_data"
                }
            ],
            "source": "http_type(response)"
        },
        {
            "cell_type": "markdown",
            "metadata": {},
            "source": "JSON is an open standard file and data interchange format that uses human-readable text to store and transmit data objects. To read the JSON HTTP response, you can use the `content()` function to parse it as a named list in R.\n"
        },
        {
            "cell_type": "code",
            "execution_count": 7,
            "metadata": {},
            "outputs": [],
            "source": "json_result <- content(response, as=\"parsed\")"
        },
        {
            "cell_type": "markdown",
            "metadata": {},
            "source": "If you use the `class()` function, you can see it is a R `List` object\n"
        },
        {
            "cell_type": "code",
            "execution_count": 8,
            "metadata": {},
            "outputs": [
                {
                    "data": {
                        "text/html": "'list'",
                        "text/latex": "'list'",
                        "text/markdown": "'list'",
                        "text/plain": "[1] \"list\""
                    },
                    "metadata": {},
                    "output_type": "display_data"
                }
            ],
            "source": "class(json_result)"
        },
        {
            "cell_type": "markdown",
            "metadata": {},
            "source": "Now let's print the JSON result.\n"
        },
        {
            "cell_type": "code",
            "execution_count": 59,
            "metadata": {},
            "outputs": [
                {
                    "data": {
                        "text/html": "<dl>\n\t<dt>$coord</dt>\n\t\t<dd><dl>\n\t<dt>$lon</dt>\n\t\t<dd>126.9778</dd>\n\t<dt>$lat</dt>\n\t\t<dd>37.5683</dd>\n</dl>\n</dd>\n\t<dt>$weather</dt>\n\t\t<dd><ol>\n\t<li><dl>\n\t<dt>$id</dt>\n\t\t<dd>803</dd>\n\t<dt>$main</dt>\n\t\t<dd>'Clouds'</dd>\n\t<dt>$description</dt>\n\t\t<dd>'broken clouds'</dd>\n\t<dt>$icon</dt>\n\t\t<dd>'04n'</dd>\n</dl>\n</li>\n</ol>\n</dd>\n\t<dt>$base</dt>\n\t\t<dd>'stations'</dd>\n\t<dt>$main</dt>\n\t\t<dd><dl>\n\t<dt>$temp</dt>\n\t\t<dd>24.78</dd>\n\t<dt>$feels_like</dt>\n\t\t<dd>25.43</dd>\n\t<dt>$temp_min</dt>\n\t\t<dd>21.23</dd>\n\t<dt>$temp_max</dt>\n\t\t<dd>26.69</dd>\n\t<dt>$pressure</dt>\n\t\t<dd>1006</dd>\n\t<dt>$humidity</dt>\n\t\t<dd>81</dd>\n\t<dt>$sea_level</dt>\n\t\t<dd>1006</dd>\n\t<dt>$grnd_level</dt>\n\t\t<dd>1000</dd>\n</dl>\n</dd>\n\t<dt>$visibility</dt>\n\t\t<dd>10000</dd>\n\t<dt>$wind</dt>\n\t\t<dd><dl>\n\t<dt>$speed</dt>\n\t\t<dd>1.52</dd>\n\t<dt>$deg</dt>\n\t\t<dd>78</dd>\n\t<dt>$gust</dt>\n\t\t<dd>2.75</dd>\n</dl>\n</dd>\n\t<dt>$clouds</dt>\n\t\t<dd><strong>$all</strong> = 76</dd>\n\t<dt>$dt</dt>\n\t\t<dd>1628532197</dd>\n\t<dt>$sys</dt>\n\t\t<dd><dl>\n\t<dt>$type</dt>\n\t\t<dd>1</dd>\n\t<dt>$id</dt>\n\t\t<dd>5509</dd>\n\t<dt>$country</dt>\n\t\t<dd>'KR'</dd>\n\t<dt>$sunrise</dt>\n\t\t<dd>1628541807</dd>\n\t<dt>$sunset</dt>\n\t\t<dd>1628591498</dd>\n</dl>\n</dd>\n\t<dt>$timezone</dt>\n\t\t<dd>32400</dd>\n\t<dt>$id</dt>\n\t\t<dd>1835848</dd>\n\t<dt>$name</dt>\n\t\t<dd>'Seoul'</dd>\n\t<dt>$cod</dt>\n\t\t<dd>200</dd>\n</dl>\n",
                        "text/latex": "\\begin{description}\n\\item[\\$coord] \\begin{description}\n\\item[\\$lon] 126.9778\n\\item[\\$lat] 37.5683\n\\end{description}\n\n\\item[\\$weather] \\begin{enumerate}\n\\item \\begin{description}\n\\item[\\$id] 803\n\\item[\\$main] 'Clouds'\n\\item[\\$description] 'broken clouds'\n\\item[\\$icon] '04n'\n\\end{description}\n\n\\end{enumerate}\n\n\\item[\\$base] 'stations'\n\\item[\\$main] \\begin{description}\n\\item[\\$temp] 24.78\n\\item[\\$feels\\_like] 25.43\n\\item[\\$temp\\_min] 21.23\n\\item[\\$temp\\_max] 26.69\n\\item[\\$pressure] 1006\n\\item[\\$humidity] 81\n\\item[\\$sea\\_level] 1006\n\\item[\\$grnd\\_level] 1000\n\\end{description}\n\n\\item[\\$visibility] 10000\n\\item[\\$wind] \\begin{description}\n\\item[\\$speed] 1.52\n\\item[\\$deg] 78\n\\item[\\$gust] 2.75\n\\end{description}\n\n\\item[\\$clouds] \\textbf{\\$all} = 76\n\\item[\\$dt] 1628532197\n\\item[\\$sys] \\begin{description}\n\\item[\\$type] 1\n\\item[\\$id] 5509\n\\item[\\$country] 'KR'\n\\item[\\$sunrise] 1628541807\n\\item[\\$sunset] 1628591498\n\\end{description}\n\n\\item[\\$timezone] 32400\n\\item[\\$id] 1835848\n\\item[\\$name] 'Seoul'\n\\item[\\$cod] 200\n\\end{description}\n",
                        "text/markdown": "$coord\n:   $lon\n:   126.9778\n$lat\n:   37.5683\n\n\n\n$weather\n:   1. $id\n:   803\n$main\n:   'Clouds'\n$description\n:   'broken clouds'\n$icon\n:   '04n'\n\n\n\n\n\n\n$base\n:   'stations'\n$main\n:   $temp\n:   24.78\n$feels_like\n:   25.43\n$temp_min\n:   21.23\n$temp_max\n:   26.69\n$pressure\n:   1006\n$humidity\n:   81\n$sea_level\n:   1006\n$grnd_level\n:   1000\n\n\n\n$visibility\n:   10000\n$wind\n:   $speed\n:   1.52\n$deg\n:   78\n$gust\n:   2.75\n\n\n\n$clouds\n:   **$all** = 76\n$dt\n:   1628532197\n$sys\n:   $type\n:   1\n$id\n:   5509\n$country\n:   'KR'\n$sunrise\n:   1628541807\n$sunset\n:   1628591498\n\n\n\n$timezone\n:   32400\n$id\n:   1835848\n$name\n:   'Seoul'\n$cod\n:   200\n\n\n",
                        "text/plain": "$coord\n$coord$lon\n[1] 126.9778\n\n$coord$lat\n[1] 37.5683\n\n\n$weather\n$weather[[1]]\n$weather[[1]]$id\n[1] 803\n\n$weather[[1]]$main\n[1] \"Clouds\"\n\n$weather[[1]]$description\n[1] \"broken clouds\"\n\n$weather[[1]]$icon\n[1] \"04n\"\n\n\n\n$base\n[1] \"stations\"\n\n$main\n$main$temp\n[1] 24.78\n\n$main$feels_like\n[1] 25.43\n\n$main$temp_min\n[1] 21.23\n\n$main$temp_max\n[1] 26.69\n\n$main$pressure\n[1] 1006\n\n$main$humidity\n[1] 81\n\n$main$sea_level\n[1] 1006\n\n$main$grnd_level\n[1] 1000\n\n\n$visibility\n[1] 10000\n\n$wind\n$wind$speed\n[1] 1.52\n\n$wind$deg\n[1] 78\n\n$wind$gust\n[1] 2.75\n\n\n$clouds\n$clouds$all\n[1] 76\n\n\n$dt\n[1] 1628532197\n\n$sys\n$sys$type\n[1] 1\n\n$sys$id\n[1] 5509\n\n$sys$country\n[1] \"KR\"\n\n$sys$sunrise\n[1] 1628541807\n\n$sys$sunset\n[1] 1628591498\n\n\n$timezone\n[1] 32400\n\n$id\n[1] 1835848\n\n$name\n[1] \"Seoul\"\n\n$cod\n[1] 200\n"
                    },
                    "metadata": {},
                    "output_type": "display_data"
                }
            ],
            "source": "json_result"
        },
        {
            "cell_type": "markdown",
            "metadata": {},
            "source": "It contains very detailed weather data about the city of `Seoul`. Feel free to try other cities as well. We need to convert the named list to a data frame so that we can use data frame operations to process the data. Below is a simple example, which you may implement your own way to convert it to a data frame.\n"
        },
        {
            "cell_type": "code",
            "execution_count": 54,
            "metadata": {},
            "outputs": [],
            "source": "# Create some empty vectors to hold data temporarily\ncoord <- c()\nlon <- c()\nlat <- c()\nweather <- c()\nweather_id <- c()\nweather_main <- c()\nweather_description <- c()\nweather_icon <- c()\nbase <- c()\nmain <- c()\ntemp <- c()\nfeels_like <- c()\ntemp_min <- c()\ntemp_max <- c()\npressure <- c()\nhumidity <- c()\nsea_level <- c()\ngrnd_level <- c()\nvisibility <- c()\nwind <- c()\nwind_speed <- c()\nwind_deg <- c()\nwind_gust <- c()\nclouds <- c()\nclouds_all <- c()\ndt <- c()\nsys <- c()\nsys_type <- c()\nsys_id <- c()\ncountry <- c()\nsunrise <- c()\nsunset <- c()\ntimezone <- c()\nid <- c()\nname <- c()\ncod <- c()\n\n"
        },
        {
            "cell_type": "markdown",
            "metadata": {},
            "source": "Now assign the values in the `json_result` list into different vectors\n"
        },
        {
            "cell_type": "code",
            "execution_count": 106,
            "metadata": {},
            "outputs": [
                {
                    "data": {
                        "text/html": "'Clouds'",
                        "text/latex": "'Clouds'",
                        "text/markdown": "'Clouds'",
                        "text/plain": "[1] \"Clouds\""
                    },
                    "metadata": {},
                    "output_type": "display_data"
                },
                {
                    "data": {
                        "text/html": "'broken clouds'",
                        "text/latex": "'broken clouds'",
                        "text/markdown": "'broken clouds'",
                        "text/plain": "[1] \"broken clouds\""
                    },
                    "metadata": {},
                    "output_type": "display_data"
                },
                {
                    "data": {
                        "text/html": "'04n'",
                        "text/latex": "'04n'",
                        "text/markdown": "'04n'",
                        "text/plain": "[1] \"04n\""
                    },
                    "metadata": {},
                    "output_type": "display_data"
                }
            ],
            "source": "# $weather is also a list with one element, its $main element indicates the weather status such as clear or rain\n\n\ncoord <- c(json_result$coord)\nweather <- c(json_result$weather)\nmain <- c(json_result$main)\nwind <- c(json_result$wind)\nclouds <- c(json_result$clouds)\n\nsys <- c(json_result$sys)\n\nlon <- c(json_result$coord$lon)\nlat <- c(json_result$coord$lat)\n\nweather_id <- c(json_result$weather[[1]]$id)\nweather_main <- c(json_result$weather[[1]]$main)\nweather_description <- c(json_result$weather[[1]]$description )\nweather_icon <- c(json_result$weather[[1]]$icon)\n\nbase <- c(json_result$base)\n\ntemp <- c(json_result$main$temp)\nfeels_like <- c(json_result$main$feels_like)\ntemp_min <- c(json_result$main$temp_min)\ntemp_max <- c(json_result$main$temp_max)\npressure <- c(json_result$main$pressure)\nhumidity <- c(json_result$main$humidity)\nsea_level <- c(json_result$main$sea_level)\ngrnd_level <- c(json_result$main$grnd_level)\n\nvisibility <- c(json_result$visibility)\n\n\nwind_speed <- c(json_result$wind$speed)\nwind_deg <- c(json_result$wind$deg)\nwind_gust <- c(json_result$wind$gust)\n\n\nclouds_all <- c(json_result$clouds$all)\ndt <- c(json_result$dt)\n\nsys_type <- c(json_result$sys$type)\nsys_id <- c(json_result$sys$id)\ncountry <- c(json_result$sys$country)\nsunrise <- c(json_result$sys$sunrise)\nsunset <- c(json_result$sys$sunset)\n\ntimezone <- c(json_result$timezone)\nid <- c(json_result$id)\nname <- c(json_result$name)\ncod <- c(json_result$cod)\n\nweather_main\nweather_description\nweather_icon\n\n\n\n"
        },
        {
            "cell_type": "markdown",
            "metadata": {},
            "source": "Combine all vectors as columns of a data frame\n"
        },
        {
            "cell_type": "code",
            "execution_count": 107,
            "metadata": {},
            "outputs": [],
            "source": "# Combine all vectors\nweather_data_frame <- data.frame(lon = lon,\nlat = lat,\nweather_id = weather_id,\nweather_main = weather_main,\nweather_description = weather_description,\nweather_icon = weather_icon,\nbase = base,\ntemp = temp,\nfeels_like = feels_like,\ntemp_min = temp_min,\ntemp_max = temp_max,\npressure = pressure,\nhumidity = humidity,\nsea_level = sea_level,\ngrnd_level = grnd_level,\nvisibility = visibility, \nwind_speed = wind_speed,\nwind_deg = wind_deg,\nwind_gust = wind_gust,\nclouds_all = clouds_all,\ndt = dt,\nsys = sys,\nsys_type = sys_type,\nsys_id = sys_id,\ncountry = country,\nsunrise = sunrise ,\nsunset = sunset,\ntimezone = timezone,\nid = id,\nname = name,\ncod = cod)"
        },
        {
            "cell_type": "code",
            "execution_count": 111,
            "metadata": {},
            "outputs": [
                {
                    "data": {
                        "text/html": "<table>\n<thead><tr><th scope=col>lon</th><th scope=col>lat</th><th scope=col>weather_id</th><th scope=col>weather_main</th><th scope=col>weather_description</th><th scope=col>weather_icon</th><th scope=col>base</th><th scope=col>temp</th><th scope=col>feels_like</th><th scope=col>temp_min</th><th scope=col>...</th><th scope=col>sys.sunset</th><th scope=col>sys_type</th><th scope=col>sys_id</th><th scope=col>country</th><th scope=col>sunrise</th><th scope=col>sunset</th><th scope=col>timezone</th><th scope=col>id</th><th scope=col>name</th><th scope=col>cod</th></tr></thead>\n<tbody>\n\t<tr><td>126.9778     </td><td>37.5683      </td><td>803          </td><td>Clouds       </td><td>broken clouds</td><td>04n          </td><td>stations     </td><td>24.78        </td><td>25.43        </td><td>21.23        </td><td>...          </td><td>1628591498   </td><td>1            </td><td>5509         </td><td>KR           </td><td>1628541807   </td><td>1628591498   </td><td>32400        </td><td>1835848      </td><td>Seoul        </td><td>200          </td></tr>\n</tbody>\n</table>\n",
                        "text/latex": "\\begin{tabular}{r|lllllllllllllllllllllllllllllllllll}\n lon & lat & weather\\_id & weather\\_main & weather\\_description & weather\\_icon & base & temp & feels\\_like & temp\\_min & ... & sys.sunset & sys\\_type & sys\\_id & country & sunrise & sunset & timezone & id & name & cod\\\\\n\\hline\n\t 126.9778      & 37.5683       & 803           & Clouds        & broken clouds & 04n           & stations      & 24.78         & 25.43         & 21.23         & ...           & 1628591498    & 1             & 5509          & KR            & 1628541807    & 1628591498    & 32400         & 1835848       & Seoul         & 200          \\\\\n\\end{tabular}\n",
                        "text/markdown": "\n| lon | lat | weather_id | weather_main | weather_description | weather_icon | base | temp | feels_like | temp_min | ... | sys.sunset | sys_type | sys_id | country | sunrise | sunset | timezone | id | name | cod |\n|---|---|---|---|---|---|---|---|---|---|---|---|---|---|---|---|---|---|---|---|---|\n| 126.9778      | 37.5683       | 803           | Clouds        | broken clouds | 04n           | stations      | 24.78         | 25.43         | 21.23         | ...           | 1628591498    | 1             | 5509          | KR            | 1628541807    | 1628591498    | 32400         | 1835848       | Seoul         | 200           |\n\n",
                        "text/plain": "  lon      lat     weather_id weather_main weather_description weather_icon\n1 126.9778 37.5683 803        Clouds       broken clouds       04n         \n  base     temp  feels_like temp_min ... sys.sunset sys_type sys_id country\n1 stations 24.78 25.43      21.23    ... 1628591498 1        5509   KR     \n  sunrise    sunset     timezone id      name  cod\n1 1628541807 1628591498 32400    1835848 Seoul 200"
                    },
                    "metadata": {},
                    "output_type": "display_data"
                }
            ],
            "source": "# Check the generated data frame\nweather_data_frame\n"
        },
        {
            "cell_type": "markdown",
            "metadata": {},
            "source": "# TASK:  Get 5-day weather forecasts for a list of cities using the OpenWeather API\n"
        },
        {
            "cell_type": "markdown",
            "metadata": {},
            "source": "Now you should be familiar with the usage of OpenWeather API. Next, you need to complete a task to get 5-day weather forecasts for a list of cities\n"
        },
        {
            "cell_type": "markdown",
            "metadata": {},
            "source": "*TODO:* Write a function to return a data frame containing 5-day weather forecasts for a list of cities\n"
        },
        {
            "cell_type": "code",
            "execution_count": null,
            "metadata": {},
            "outputs": [],
            "source": "# Create some empty vectors to hold data temporarily\n\n# City name column\ncity <- c()\n# Weather column, rainy or cloudy, etc\nweather <- c()\n# Sky visibility column\nvisibility <- c()\n# Current temperature column\ntemp <- c()\n# Max temperature column\ntemp_min <- c()\n# Min temperature column\ntemp_max <- c()\n# Pressure column\npressure <- c()\n# Humidity column\nhumidity <- c()\n# Wind speed column\nwind_speed <- c()\n# Wind direction column\nwind_deg <- c()\n# Forecast timestamp\nforecast_datetime <- c()\n# Season column\n# Note that for season, you can hard code a season value from levels Spring, Summer, Autumn, and Winter based on your current month.\nseason <- c()\n"
        },
        {
            "cell_type": "code",
            "execution_count": 179,
            "metadata": {},
            "outputs": [],
            "source": "# Get forecast data for a given city list\n\n\nget_weather_forecast_by_cities <- function(city_names){ \n    for (city_name in city_names){\n        df <- data.frame()\n        forecast_url <- 'https://api.openweathermap.org/data/2.5/forecast'\n        \n        forecast_query <- list(q = city_name, appid = api_key, units=\"metric\")\n        \n        response <- GET(forecast_url, query = forecast_query)\n        \n        json_result <- content(response, as = \"parsed\")\n        \n        results <- json_result$list\n\n\n        # Loop the json result\n        for(result in results) {\n            city <- json_result$city_name\n            weather <- json_result$weather[[1]]$main\n            visibility <- json_result$visibility\n            temp <- json_result$main$temp\n            temp_min <- json_result$main$temp_min\n            temp_max <- json_result$main$temp_max\n            pressure <- json_result$main$pressure\n            humidity <- json_result$main$humidity\n            wind_speed <- json_result$wind$speed\n            wind_deg <- json_result$wind$deg\n           \n\n            \n        }\n    \n  # Add the R Lists into a data frame\n    \n  weather_df <- data.frame(city = city,\n                           weather = weather, \n                           visibility = visibility,\n                           temp = temp,\n                            temp_min = temp_min,\n                            temp_max = temp_max,\n                            pressure = pressure,\n                            humidity = humidity, \n                            wind_speed = wind_speed,\n                            wind_deg = wind_deg)\n  \n        \n    }\n    \n    # Return a data frame\n\nreturn(weather_df)\n    \n    }\n    \n\n\n\n"
        },
        {
            "cell_type": "markdown",
            "metadata": {},
            "source": "Complete and call `get_weather_forecaset_by_cities` function with a list of cities, and write the data frame into a csv file called `cities_weather_forecast.csv`\n"
        },
        {
            "cell_type": "code",
            "execution_count": 180,
            "metadata": {},
            "outputs": [
                {
                    "name": "stdout",
                    "output_type": "stream",
                    "text": "data frame with 0 columns and 0 rows\n"
                }
            ],
            "source": "cities <- c(\"Seoul\", \"Washington, D.C.\", \"Paris\", \"Suzhou\")\ncities_weather_df <- get_weather_forecast_by_cities(cities)\nprint(cities_weather_df)\n"
        },
        {
            "cell_type": "code",
            "execution_count": null,
            "metadata": {},
            "outputs": [],
            "source": "# Write cities_weather_df to `cities_weather_forecast.csv`\nwrite.csv(cities_weather_df, \"cities_weather_forecast.csv\", row.names=FALSE)"
        },
        {
            "cell_type": "markdown",
            "metadata": {},
            "source": "For more details about HTTP requests with `httr`, please refer to the previous HTTP request notebook here:\n\n[HTTP request in R](https://cf-courses-data.s3.us.cloud-object-storage.appdomain.cloud/IBMDeveloperSkillsNetwork-RP0101EN-Coursera/v2/M4\\_Working_With_Data/lab2\\_jupyter_http-request.ipynb)\n"
        },
        {
            "cell_type": "markdown",
            "metadata": {},
            "source": "## TASK: Download datasets as csv files from cloud storage\n"
        },
        {
            "cell_type": "markdown",
            "metadata": {},
            "source": "The last task of this lab is straightforward: download some aggregated datasets from cloud storage\n"
        },
        {
            "cell_type": "code",
            "execution_count": null,
            "metadata": {},
            "outputs": [],
            "source": "# Download several datasets\n\n# Download some general city information such as name and locations\nurl <- \"https://cf-courses-data.s3.us.cloud-object-storage.appdomain.cloud/IBMDeveloperSkillsNetwork-RP0321EN-SkillsNetwork/labs/datasets/raw_worldcities.csv\"\n# download the file\ndownload.file(url, destfile = \"raw_worldcities.csv\")\n\n# Download a specific hourly Seoul bike sharing demand dataset\nurl <- \"https://cf-courses-data.s3.us.cloud-object-storage.appdomain.cloud/IBMDeveloperSkillsNetwork-RP0321EN-SkillsNetwork/labs/datasets/raw_seoul_bike_sharing.csv\"\n# download the file\ndownload.file(url, destfile = \"raw_seoul_bike_sharing.csv\")"
        },
        {
            "cell_type": "markdown",
            "metadata": {},
            "source": "## Next Step\n"
        },
        {
            "cell_type": "markdown",
            "metadata": {},
            "source": "Now you should collect all datasets required for this project, all in csv format. Feel free to explore them preliminarily now. However, they are the raw datasets and have to be processed for further data visualization or data analysis.\n\nIn the next module, you will improve their quality by performing data wrangling tasks.\n"
        },
        {
            "cell_type": "markdown",
            "metadata": {},
            "source": "## Authors\n\n<a href=\"https://www.linkedin.com/in/yan-luo-96288783/?utm_medium=Exinfluencer&utm_source=Exinfluencer&utm_content=000026UJ&utm_term=10006555&utm_id=NA-SkillsNetwork-Channel-SkillsNetworkCoursesIBMDeveloperSkillsNetworkRP0321ENSkillsNetwork25371262-2021-01-01\" target=\"_blank\">Yan Luo</a>\n"
        },
        {
            "cell_type": "markdown",
            "metadata": {},
            "source": "### Other Contributors\n"
        },
        {
            "cell_type": "markdown",
            "metadata": {},
            "source": "## Change Log\n\n| Date (YYYY-MM-DD) | Version | Changed By | Change Description           |\n| ----------------- | ------- | ---------- | ---------------------------- |\n| 2021-04-05        | 0.1     | Yan        | Initial version created      |\n|                   |         |            |                              |\n|                   |         |            |                              |\n\n## <h3 align=\"center\"> \u00a9 IBM Corporation 2021. All rights reserved. <h3/>\n"
        }
    ],
    "metadata": {
        "kernelspec": {
            "display_name": "R 3.6",
            "language": "R",
            "name": "r-3.6"
        },
        "language_info": {
            "codemirror_mode": "r",
            "file_extension": ".r",
            "mimetype": "text/x-r-source",
            "name": "R",
            "pygments_lexer": "r",
            "version": "3.6.1"
        }
    },
    "nbformat": 4,
    "nbformat_minor": 4
}